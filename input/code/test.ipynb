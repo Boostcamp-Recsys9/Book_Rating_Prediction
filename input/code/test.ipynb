{
 "cells": [
  {
   "cell_type": "code",
   "execution_count": 2,
   "id": "c78778f4-46dc-4b62-871f-239c0f530e11",
   "metadata": {},
   "outputs": [],
   "source": [
    "import pandas as pd\n",
    "import numpy as np\n",
    "import matplotlib.pyplot as plt\n",
    "import missingno as msno\n",
    "import seaborn as sns\n",
    "import os"
   ]
  },
  {
   "cell_type": "code",
   "execution_count": 3,
   "id": "42245324-6eb4-4d4e-9b1e-f818863e8218",
   "metadata": {},
   "outputs": [],
   "source": [
    "path = \"./data/\"\n",
    "books_df = pd.read_csv(path + \"books_word2vec.csv\", index_col=\"Unnamed: 0\")\n",
    "users_df = pd.read_csv(path + \"users.csv\")\n",
    "rating_df = pd.read_csv(path + \"train_ratings.csv\")"
   ]
  },
  {
   "cell_type": "code",
   "execution_count": 4,
   "id": "e754fd2f-c07f-4702-8758-7979787caf36",
   "metadata": {},
   "outputs": [
    {
     "name": "stdout",
     "output_type": "stream",
     "text": [
      "Index(['isbn', 'book_title', 'book_author', 'year_of_publication', 'publisher',\n",
      "       'img_url', 'language', 'category', 'summary', 'img_path'],\n",
      "      dtype='object')\n",
      "Index(['user_id', 'location', 'age'], dtype='object')\n",
      "Index(['user_id', 'isbn', 'rating'], dtype='object')\n"
     ]
    }
   ],
   "source": [
    "print(books_df.columns)\n",
    "print(users_df.columns)\n",
    "print(rating_df.columns)"
   ]
  },
  {
   "cell_type": "code",
   "execution_count": null,
   "id": "696ef6ca-6b9f-4a64-b0d1-f9cbca064895",
   "metadata": {},
   "outputs": [],
   "source": [
    "t = users_df[(users_df['age'] >= 85) | (users_df['age'] <= 10)]\n",
    "users_df.drop(t.index, axis=0, inplace=True)"
   ]
  },
  {
   "cell_type": "code",
   "execution_count": null,
   "id": "4785ed69-4a7d-44fa-a76b-279975fbeec7",
   "metadata": {},
   "outputs": [],
   "source": [
    "books_df.drop(columns = [\"img_path\",\"img_url\"], inplace=True)"
   ]
  },
  {
   "cell_type": "code",
   "execution_count": null,
   "id": "6afd73b3-20b7-4b7a-bd4c-36d73971c0f3",
   "metadata": {},
   "outputs": [],
   "source": [
    "books_df['location'] = books_df['location'].str.replace(r'[^0-9a-zA-Z:,]', '') # 특수문자 제거\n",
    "\n",
    "books_df['location_city'] = books_df['location'].apply(lambda x: x.split(',')[0].strip())\n",
    "books_df['location_state'] = books_df['location'].apply(lambda x: x.split(',')[1].strip())\n",
    "books_df['location_country'] = books_df['location'].apply(lambda x: x.split(',')[2].strip())\n",
    "\n",
    "books_df = books_df.replace('na', np.nan) #특수문자 제거로 n/a가 na로 바뀌게 되었습니다. 따라서 이를 컴퓨터가 인식할 수 있는 결측값으로 변환합니다.\n",
    "books_df = books_df.replace('', np.nan) # 일부 경우 , , ,으로 입력된 경우가 있었으므로 이런 경우에도 결측값으로 변환합니다.\n",
    "\n",
    "books_df.drop('location', axis=1, inplace=True)"
   ]
  },
  {
   "cell_type": "code",
   "execution_count": null,
   "id": "8abe6d58-da4c-4463-8da0-c9c53a6e0991",
   "metadata": {},
   "outputs": [],
   "source": [
    "user_rating_df = pd.merge(users_df, rating_df, how='left', on='user_id')\n",
    "data = pd.merge(user_rating_df, books_df, how='left', on='isbn')\n",
    "data.head(3)"
   ]
  },
  {
   "cell_type": "code",
   "execution_count": null,
   "id": "b31ed791-007b-41ed-a27f-cd87aa1a6fa4",
   "metadata": {},
   "outputs": [],
   "source": [
    "print(len(data))\n",
    "data['user_id'].nunique()"
   ]
  },
  {
   "cell_type": "code",
   "execution_count": null,
   "id": "f1b5e4d6-82dd-4086-9935-1e51fdfdf109",
   "metadata": {},
   "outputs": [],
   "source": [
    "def fillAge(idx):\n",
    "    global data\n",
    "    d2 = data.drop(idx, axis=0)\n",
    "    d2 = d2.groupby('isbn').aggregate({\"age\":np.average})\n",
    "    d2['age'] = d2['age'].astype(int)\n",
    "    \n",
    "    avg_age = {}\n",
    "    for i, isbn in data.loc[idx,'isbn'].items():\n",
    "        try: \n",
    "            avg_age[i] = d2.loc[isbn, 'age']\n",
    "        except:\n",
    "            pass\n",
    "        \n",
    "    avg_age = pd.DataFrame(avg_age, index=[0]).T\n",
    "    avg_age.rename(columns={0:\"avgAge\"}, inplace=True)\n",
    "    return avg_age"
   ]
  },
  {
   "cell_type": "code",
   "execution_count": null,
   "id": "3c09923f-adaf-42c8-a761-398a75351489",
   "metadata": {},
   "outputs": [],
   "source": [
    "age_na_idx = data[data['age'].isna()].index"
   ]
  },
  {
   "cell_type": "code",
   "execution_count": null,
   "id": "11ea0b6e-0f7e-4ad9-ae7d-b8c7a7c72642",
   "metadata": {
    "tags": []
   },
   "outputs": [],
   "source": [
    "a = fillAge(age_na_idx)\n",
    "a"
   ]
  },
  {
   "cell_type": "code",
   "execution_count": null,
   "id": "37ebdecc-de54-4e16-bcb9-ca84b4c59ea5",
   "metadata": {},
   "outputs": [],
   "source": [
    "data.loc[a.index, 'age'] = a['avgAge'].apply(lambda x: x)\n",
    "data.loc[age_na_idx].head(5)"
   ]
  },
  {
   "cell_type": "markdown",
   "id": "e259ff69-5a7d-4ce1-ba94-5c0499702d74",
   "metadata": {},
   "source": [
    "user 데이터 age 처리한거로 바꾸기.."
   ]
  },
  {
   "cell_type": "code",
   "execution_count": null,
   "id": "be182830-a83b-45c1-8fa9-3605fbdc57c7",
   "metadata": {
    "tags": []
   },
   "outputs": [],
   "source": [
    "def make_user_csv_df():\n",
    "    ucpy = users_df.copy(deep=True)\n",
    "    t = data[['user_id','age']]\n",
    "    idx = t['age'].dropna().index\n",
    "    t = t.loc[idx]\n",
    "    t = t.groupby('user_id').aggregate({\"age\":np.max}).squeeze()\n",
    "    ucpy['user_id2'] = ucpy['user_id'].copy()\n",
    "    a = ucpy[['user_id', 'user_id2']].set_index('user_id2').squeeze()\n",
    "    a = a.map(t).reset_index()\n",
    "    a.columns = ['user_id','age']\n",
    "    ucpy['age'] = a['age']\n",
    "    ucpy.drop(columns = 'user_id2', inplace=True)\n",
    "    return ucpy\n",
    "\n",
    "ucpy = make_user_csv_df()"
   ]
  },
  {
   "cell_type": "markdown",
   "id": "467f03b4-c62c-41c5-a8ec-058796a4b8fc",
   "metadata": {},
   "source": [
    "## Book"
   ]
  },
  {
   "cell_type": "code",
   "execution_count": 17,
   "id": "21b4258d-72d4-4279-a11b-310f64c2a9a5",
   "metadata": {},
   "outputs": [
    {
     "name": "stdout",
     "output_type": "stream",
     "text": [
      "11571\n",
      "0\n"
     ]
    }
   ],
   "source": [
    "books_df = pd.read_csv(\"./data/books_word2vec.csv\")\n",
    "print(books_df['publisher'].nunique())\n",
    "print(books_df['publisher'].isna().sum())"
   ]
  },
  {
   "cell_type": "code",
   "execution_count": 12,
   "id": "81924204-e396-4e33-94a3-21ee77eed45d",
   "metadata": {},
   "outputs": [
    {
     "name": "stderr",
     "output_type": "stream",
     "text": [
      "100%|██████████| 2507/2507 [00:42<00:00, 58.96it/s] "
     ]
    },
    {
     "name": "stdout",
     "output_type": "stream",
     "text": [
      "---finish---\n"
     ]
    },
    {
     "name": "stderr",
     "output_type": "stream",
     "text": [
      "\n"
     ]
    }
   ],
   "source": [
    "import re\n",
    "import tqdm\n",
    "bcpy = books_df.copy(deep=True)\n",
    "bcpy.loc[bcpy[bcpy['publisher'].notnull()].index, 'publisher'] = bcpy[bcpy['publisher'].notnull()]['publisher'].apply(lambda x: re.sub('[\\W_]+',' ',x).strip())\n",
    "bcpy['publisher'] = bcpy['publisher'].str.lower()\n",
    "bcpy['publisher'] = bcpy['publisher'].apply(lambda x : re.sub('books?|publishing|publisher','',x).strip())\n",
    "bcpy2 = bcpy.copy(deep=True)\n",
    "\n",
    "# publisher의 리스트 만들기 위함\n",
    "publisher = bcpy2.groupby(\"publisher\").count()['isbn'].sort_values(ascending=False)\n",
    "publisher = publisher[publisher.values>4]\n",
    "publisher_list = []\n",
    "for p in tqdm.tqdm(publisher.index):\n",
    "    # p가 너무 다양한 publisher를 포함할 수 있는 단어들은 제외\n",
    "    if p =='i' or p == 'pan' or p == 'roc' or p == 'que' \\\n",
    "               or p == 'ump' or p== 'asa' or p=='pol' or p=='rac': continue\n",
    "    \n",
    "    # a a 등 이상한 publisher들은 중간 공백 제거후 너무 짧은건 제외 (tv도 있었지만 그냥 제외)\n",
    "    w = p.replace(\" \",'')\n",
    "    if len(w) < 3 : continue\n",
    "    \n",
    "    cont_p = bcpy2[bcpy2['publisher'].str.contains(p)]['publisher']\n",
    "    idx = cont_p.index\n",
    "    publisher_list.append(p)\n",
    "    bcpy2.drop(idx, axis=0, inplace=True)\n",
    "    \n",
    "print('---finish---')"
   ]
  },
  {
   "cell_type": "code",
   "execution_count": 13,
   "id": "16eff9a7-f20f-4f5c-a983-2df2cddeaf3b",
   "metadata": {},
   "outputs": [
    {
     "name": "stdout",
     "output_type": "stream",
     "text": [
      "기존 publisher nunique :  10938\n",
      "수정후 :  2496\n"
     ]
    }
   ],
   "source": [
    "print(\"기존 publisher nunique : \", bcpy['publisher'].nunique())\n",
    "print(\"수정후 : \", len(publisher_list))"
   ]
  },
  {
   "cell_type": "code",
   "execution_count": 14,
   "id": "d8811701-25bd-4ec7-84fa-af460b18978d",
   "metadata": {},
   "outputs": [
    {
     "name": "stderr",
     "output_type": "stream",
     "text": [
      "100%|██████████| 2496/2496 [00:43<00:00, 57.90it/s] \n"
     ]
    },
    {
     "name": "stdout",
     "output_type": "stream",
     "text": [
      "---finish---\n"
     ]
    }
   ],
   "source": [
    "idx_list = []\n",
    "# 속도 조금이라도 빠르게 하기 위해서 인덱스를 계속 삭제하기 위한 df\n",
    "bcpy2 = bcpy.copy(deep=True)\n",
    "for publisher in tqdm.tqdm(publisher_list):\n",
    "    idx = bcpy2[bcpy2['publisher'].str.contains(publisher)].index\n",
    "    idx_list.extend(idx)\n",
    "    bcpy.loc[idx,'publisher'] = publisher\n",
    "    bcpy2.drop(idx, axis=0, inplace=True)\n",
    "    \n",
    "idx = bcpy.drop(idx_list, axis=0).index\n",
    "bcpy.loc[idx, 'publisher'] = 'etc'\n",
    "print('---finish---')"
   ]
  },
  {
   "cell_type": "code",
   "execution_count": 15,
   "id": "f5a7f18e-790e-40f0-b19e-b3d82e8962cc",
   "metadata": {},
   "outputs": [
    {
     "data": {
      "text/plain": [
       "etc                      8268\n",
       "penguin                  4686\n",
       "bantam                   4514\n",
       "tor                      3462\n",
       "harpercollins            3230\n",
       "                         ... \n",
       "trafford                    5\n",
       "rowman littlefield s        5\n",
       "univ of new mexico pr       5\n",
       "william c brown             5\n",
       "masthof pr                  5\n",
       "Name: publisher, Length: 1723, dtype: int64"
      ]
     },
     "execution_count": 15,
     "metadata": {},
     "output_type": "execute_result"
    }
   ],
   "source": [
    "bcpy['publisher'].value_counts()"
   ]
  },
  {
   "cell_type": "code",
   "execution_count": null,
   "id": "f094deb2-dcec-4f17-ad5c-fde319a41055",
   "metadata": {},
   "outputs": [],
   "source": []
  },
  {
   "cell_type": "code",
   "execution_count": null,
   "id": "26435e71-3b11-49e2-9632-fa4a922dcde1",
   "metadata": {},
   "outputs": [],
   "source": []
  },
  {
   "cell_type": "code",
   "execution_count": null,
   "id": "5d201630-93d4-43f0-b53e-61fdb1d26e8e",
   "metadata": {},
   "outputs": [],
   "source": []
  },
  {
   "cell_type": "code",
   "execution_count": null,
   "id": "62debd4b-d145-4dc1-9655-1fb39a7893a5",
   "metadata": {},
   "outputs": [],
   "source": []
  },
  {
   "cell_type": "code",
   "execution_count": null,
   "id": "5a668ecb-ccb9-4bdd-a73a-4692d51fa81b",
   "metadata": {},
   "outputs": [],
   "source": []
  },
  {
   "cell_type": "code",
   "execution_count": null,
   "id": "3db8e5c1-9b24-4083-9b36-2368d8ce58b7",
   "metadata": {},
   "outputs": [],
   "source": []
  },
  {
   "cell_type": "code",
   "execution_count": null,
   "id": "0fc58d43-7715-4618-8898-094fd1d3fe13",
   "metadata": {},
   "outputs": [],
   "source": []
  },
  {
   "cell_type": "code",
   "execution_count": null,
   "id": "c99fa78b-9418-4a7d-a6ec-479b1c098cb3",
   "metadata": {},
   "outputs": [],
   "source": []
  },
  {
   "cell_type": "code",
   "execution_count": null,
   "id": "c60a2e80-ab18-4be3-9626-09fbf3adbe0b",
   "metadata": {},
   "outputs": [],
   "source": []
  },
  {
   "cell_type": "code",
   "execution_count": null,
   "id": "f30852df-4b09-4aff-9317-09ecacfd2e52",
   "metadata": {},
   "outputs": [],
   "source": []
  },
  {
   "cell_type": "code",
   "execution_count": null,
   "id": "618a2d18-1dd8-46df-8609-a8f3331d767f",
   "metadata": {},
   "outputs": [],
   "source": []
  },
  {
   "cell_type": "code",
   "execution_count": null,
   "id": "b309c6a2-bb28-4147-be48-e1cfffc228af",
   "metadata": {},
   "outputs": [],
   "source": []
  },
  {
   "cell_type": "code",
   "execution_count": null,
   "id": "7b95fa87-7249-4f28-871c-b3ac5c6f87b1",
   "metadata": {},
   "outputs": [],
   "source": []
  },
  {
   "cell_type": "code",
   "execution_count": null,
   "id": "b796d6ac-5961-40c0-81d1-fa3c20ec01da",
   "metadata": {},
   "outputs": [],
   "source": []
  },
  {
   "cell_type": "code",
   "execution_count": null,
   "id": "57ca7bd8-76e9-4846-a8b3-cc161550d442",
   "metadata": {},
   "outputs": [],
   "source": []
  },
  {
   "cell_type": "code",
   "execution_count": null,
   "id": "386259df-72ea-4d29-b329-0a2cc0e233a7",
   "metadata": {},
   "outputs": [],
   "source": []
  },
  {
   "cell_type": "code",
   "execution_count": 170,
   "id": "fae59e94-b563-4ca6-8ea2-8056c701ce02",
   "metadata": {},
   "outputs": [
    {
     "data": {
      "text/plain": [
       "Index(['Unnamed: 0', 'isbn', 'book_author', 'year_of_publication', 'publisher',\n",
       "       'category'],\n",
       "      dtype='object')"
      ]
     },
     "execution_count": 170,
     "metadata": {},
     "output_type": "execute_result"
    }
   ],
   "source": [
    "b = pd.read_csv(\"./testdata/books_by_publisher.csv\")\n",
    "u = pd.read_csv(\"./testdata/users.csv\")\n",
    "\n",
    "b.columns"
   ]
  },
  {
   "cell_type": "code",
   "execution_count": null,
   "id": "39e45f1e-2582-4508-b4dc-85b9241c15b9",
   "metadata": {},
   "outputs": [],
   "source": []
  },
  {
   "cell_type": "code",
   "execution_count": null,
   "id": "96d49392-9f82-4e7b-bc18-5a1c39e47b02",
   "metadata": {},
   "outputs": [],
   "source": []
  },
  {
   "cell_type": "code",
   "execution_count": null,
   "id": "bbd61175-121f-4f29-b71c-153d763d0a78",
   "metadata": {},
   "outputs": [],
   "source": []
  },
  {
   "cell_type": "code",
   "execution_count": null,
   "id": "0dfd20fe-d2ee-4e02-84bb-cad32d0e7aac",
   "metadata": {},
   "outputs": [],
   "source": []
  },
  {
   "cell_type": "code",
   "execution_count": null,
   "id": "94a10bf7-5e26-4008-be02-9636aff1e790",
   "metadata": {},
   "outputs": [],
   "source": []
  },
  {
   "cell_type": "code",
   "execution_count": null,
   "id": "12143620-1f14-45fb-a108-1cacbe7e2cdd",
   "metadata": {},
   "outputs": [
    {
     "ename": "NameError",
     "evalue": "name 'ucpy' is not defined",
     "output_type": "error",
     "traceback": [
      "\u001b[0;31m---------------------------------------------------------------------------\u001b[0m",
      "\u001b[0;31mNameError\u001b[0m                                 Traceback (most recent call last)",
      "Cell \u001b[0;32mIn [169], line 2\u001b[0m\n\u001b[1;32m      1\u001b[0m path \u001b[38;5;241m=\u001b[39m \u001b[38;5;124m\"\u001b[39m\u001b[38;5;124m./testdata/\u001b[39m\u001b[38;5;124m\"\u001b[39m\n\u001b[0;32m----> 2\u001b[0m \u001b[43mucpy\u001b[49m\u001b[38;5;241m.\u001b[39mto_csv(path \u001b[38;5;241m+\u001b[39m \u001b[38;5;124m'\u001b[39m\u001b[38;5;124musers.csv\u001b[39m\u001b[38;5;124m'\u001b[39m, index\u001b[38;5;241m=\u001b[39m\u001b[38;5;28;01mFalse\u001b[39;00m)\n\u001b[1;32m      3\u001b[0m bcpy\u001b[38;5;241m.\u001b[39mto_csv(path \u001b[38;5;241m+\u001b[39m \u001b[38;5;124m'\u001b[39m\u001b[38;5;124mbooks_by_publisher.csv\u001b[39m\u001b[38;5;124m'\u001b[39m, index\u001b[38;5;241m=\u001b[39m\u001b[38;5;28;01mFalse\u001b[39;00m)\n",
      "\u001b[0;31mNameError\u001b[0m: name 'ucpy' is not defined"
     ]
    }
   ],
   "source": [
    "path = \"./testdata/\"\n",
    "ucpy.to_csv(path + 'users.csv', index=False)\n",
    "bcpy.to_csv(path + 'books.csv', index=False)"
   ]
  },
  {
   "cell_type": "code",
   "execution_count": null,
   "id": "5baf42f5-af10-4577-ac26-dc5f69a545a9",
   "metadata": {},
   "outputs": [],
   "source": []
  },
  {
   "cell_type": "code",
   "execution_count": 176,
   "id": "c424eaf9-3d46-4ed4-bf9a-8217f28d587c",
   "metadata": {},
   "outputs": [
    {
     "name": "stdout",
     "output_type": "stream",
     "text": [
      "/opt/conda/lib/python3.8/site-packages/requests/__init__.py:89: RequestsDependencyWarning: urllib3 (1.26.12) or chardet (3.0.4) doesn't match a supported version!\n",
      "  warnings.warn(\"urllib3 ({}) or chardet ({}) doesn't match a supported \"\n",
      "--------------- FFM Load Data ---------------\n",
      "--------------- FFM Train/Valid Split ---------------\n",
      "Traceback (most recent call last):\n",
      "  File \"main.py\", line 191, in <module>\n",
      "    main(args)\n",
      "  File \"main.py\", line 55, in main\n",
      "    data = context_data_loader(args, data)\n",
      "  File \"/opt/ml/input/code/src/data/context_data.py\", line 152, in context_data_loader\n",
      "    print(torch.LongTensor(data['X_train'].values))\n",
      "TypeError: can't convert np.ndarray of type numpy.object_. The only supported types are: float64, float32, float16, complex64, complex128, int64, int32, int16, int8, uint8, and bool.\n"
     ]
    }
   ],
   "source": [
    "!python3 main.py --WANDB False --DATA_PATH \"./testdata/\" --MODEL FFM --EPOCHS 30 --LR 0.01"
   ]
  },
  {
   "cell_type": "code",
   "execution_count": null,
   "id": "793ccd06-3dcc-4bc1-b7fe-abfd54c10f60",
   "metadata": {},
   "outputs": [],
   "source": []
  },
  {
   "cell_type": "code",
   "execution_count": null,
   "id": "ec5c189a-89b8-4e0d-b5de-82d7b051f8d0",
   "metadata": {},
   "outputs": [],
   "source": []
  },
  {
   "cell_type": "code",
   "execution_count": null,
   "id": "068aca05-a33d-4599-9442-d8edb69fa5d5",
   "metadata": {},
   "outputs": [],
   "source": []
  },
  {
   "cell_type": "code",
   "execution_count": null,
   "id": "c37350fe-9c22-4e5d-9cd0-1f8897e895f6",
   "metadata": {},
   "outputs": [],
   "source": [
    "!python3 main.py --DATA_PATH \"./testdata/\" --MODEL DeepCoNN --LR 0.01 --EPOCHS 50"
   ]
  },
  {
   "cell_type": "code",
   "execution_count": null,
   "id": "7f4a8276-44b4-4a4d-a3ef-31ad5a6775e9",
   "metadata": {
    "tags": []
   },
   "outputs": [],
   "source": [
    "!python3 main.py --DATA_PATH \"./testdata/\" --MODEL NCF --EPOCHS 30 --LR 0.01"
   ]
  },
  {
   "cell_type": "code",
   "execution_count": null,
   "id": "a831d81d-ca83-48f2-9e38-bc6886f73a5b",
   "metadata": {},
   "outputs": [],
   "source": []
  },
  {
   "cell_type": "code",
   "execution_count": null,
   "id": "31cd82b9-743b-413b-aaca-97d61fc8a4d1",
   "metadata": {},
   "outputs": [],
   "source": []
  },
  {
   "cell_type": "code",
   "execution_count": null,
   "id": "d19b1163-d02b-4f7f-8ba4-6a63e3615fb9",
   "metadata": {},
   "outputs": [],
   "source": [
    "!python3 main.py --DATA_PATH \"./testdata/\" --MODEL DCN"
   ]
  },
  {
   "cell_type": "code",
   "execution_count": null,
   "id": "d972730b-6f9b-448c-8824-2446e2567fdb",
   "metadata": {},
   "outputs": [],
   "source": [
    "!python3 main.py --DATA_PATH \"./testdata/\" --MODEL DEEPFM"
   ]
  },
  {
   "cell_type": "code",
   "execution_count": 35,
   "id": "be457c50-2655-4110-9a45-e82540058fd8",
   "metadata": {},
   "outputs": [
    {
     "name": "stdout",
     "output_type": "stream",
     "text": [
      "/opt/conda/lib/python3.8/site-packages/requests/__init__.py:89: RequestsDependencyWarning: urllib3 (1.26.12) or chardet (3.0.4) doesn't match a supported version!\n",
      "  warnings.warn(\"urllib3 ({}) or chardet ({}) doesn't match a supported \"\n",
      "usage: main.py [-h] [--DATA_PATH DATA_PATH]\n",
      "               [--MODEL {FM,FFM,NCF,WDN,DCN,CNN_FM,DeepCoNN,DEEPFM}]\n",
      "               [--DATA_SHUFFLE DATA_SHUFFLE] [--TEST_SIZE TEST_SIZE]\n",
      "               [--SEED SEED] [--WANDB WANDB] [--BATCH_SIZE BATCH_SIZE]\n",
      "               [--EPOCHS EPOCHS] [--LR LR] [--WEIGHT_DECAY WEIGHT_DECAY]\n",
      "               [--DEVICE {cuda,cpu}] [--FM_EMBED_DIM FM_EMBED_DIM]\n",
      "               [--FFM_EMBED_DIM FFM_EMBED_DIM]\n",
      "               [--DEEPFM_EMBED_DIM DEEPFM_EMBED_DIM]\n",
      "               [--NCF_EMBED_DIM NCF_EMBED_DIM] [--NCF_MLP_DIMS NCF_MLP_DIMS]\n",
      "               [--NCF_DROPOUT NCF_DROPOUT] [--WDN_EMBED_DIM WDN_EMBED_DIM]\n",
      "               [--WDN_MLP_DIMS WDN_MLP_DIMS] [--WDN_DROPOUT WDN_DROPOUT]\n",
      "               [--DCN_EMBED_DIM DCN_EMBED_DIM] [--DCN_MLP_DIMS DCN_MLP_DIMS]\n",
      "               [--DCN_DROPOUT DCN_DROPOUT] [--DCN_NUM_LAYERS DCN_NUM_LAYERS]\n",
      "               [--CNN_FM_EMBED_DIM CNN_FM_EMBED_DIM]\n",
      "               [--CNN_FM_LATENT_DIM CNN_FM_LATENT_DIM]\n",
      "               [--DEEPCONN_VECTOR_CREATE DEEPCONN_VECTOR_CREATE]\n",
      "               [--DEEPCONN_EMBED_DIM DEEPCONN_EMBED_DIM]\n",
      "               [--DEEPCONN_LATENT_DIM DEEPCONN_LATENT_DIM]\n",
      "               [--DEEPCONN_CONV_1D_OUT_DIM DEEPCONN_CONV_1D_OUT_DIM]\n",
      "               [--DEEPCONN_KERNEL_SIZE DEEPCONN_KERNEL_SIZE]\n",
      "               [--DEEPCONN_WORD_DIM DEEPCONN_WORD_DIM]\n",
      "               [--DEEPCONN_OUT_DIM DEEPCONN_OUT_DIM]\n",
      "\n",
      "parser\n",
      "\n",
      "optional arguments:\n",
      "  -h, --help            show this help message and exit\n",
      "  --DATA_PATH DATA_PATH\n",
      "                        Data path를 설정할 수 있습니다.\n",
      "  --MODEL {FM,FFM,NCF,WDN,DCN,CNN_FM,DeepCoNN,DEEPFM}\n",
      "                        학습 및 예측할 모델을 선택할 수 있습니다.\n",
      "  --DATA_SHUFFLE DATA_SHUFFLE\n",
      "                        데이터 셔플 여부를 조정할 수 있습니다.\n",
      "  --TEST_SIZE TEST_SIZE\n",
      "                        Train/Valid split 비율을 조정할 수 있습니다.\n",
      "  --SEED SEED           seed 값을 조정할 수 있습니다.\n",
      "  --WANDB WANDB         WANDB에 기록 여부를 조정할 수 있습니다.\n",
      "  --BATCH_SIZE BATCH_SIZE\n",
      "                        Batch size를 조정할 수 있습니다.\n",
      "  --EPOCHS EPOCHS       Epoch 수를 조정할 수 있습니다.\n",
      "  --LR LR               Learning Rate를 조정할 수 있습니다.\n",
      "  --WEIGHT_DECAY WEIGHT_DECAY\n",
      "                        Adam optimizer에서 정규화에 사용하는 값을 조정할 수 있습니다.\n",
      "  --DEVICE {cuda,cpu}   학습에 사용할 Device를 조정할 수 있습니다.\n",
      "  --FM_EMBED_DIM FM_EMBED_DIM\n",
      "                        FM에서 embedding시킬 차원을 조정할 수 있습니다.\n",
      "  --FFM_EMBED_DIM FFM_EMBED_DIM\n",
      "                        FFM에서 embedding시킬 차원을 조정할 수 있습니다.\n",
      "  --DEEPFM_EMBED_DIM DEEPFM_EMBED_DIM\n",
      "                        DEEPFM에서 embedding시킬 차원을 조정할 수 있습니다.\n",
      "  --NCF_EMBED_DIM NCF_EMBED_DIM\n",
      "                        NCF에서 embedding시킬 차원을 조정할 수 있습니다.\n",
      "  --NCF_MLP_DIMS NCF_MLP_DIMS\n",
      "                        NCF에서 MLP Network의 차원을 조정할 수 있습니다.\n",
      "  --NCF_DROPOUT NCF_DROPOUT\n",
      "                        NCF에서 Dropout rate를 조정할 수 있습니다.\n",
      "  --WDN_EMBED_DIM WDN_EMBED_DIM\n",
      "                        WDN에서 embedding시킬 차원을 조정할 수 있습니다.\n",
      "  --WDN_MLP_DIMS WDN_MLP_DIMS\n",
      "                        WDN에서 MLP Network의 차원을 조정할 수 있습니다.\n",
      "  --WDN_DROPOUT WDN_DROPOUT\n",
      "                        WDN에서 Dropout rate를 조정할 수 있습니다.\n",
      "  --DCN_EMBED_DIM DCN_EMBED_DIM\n",
      "                        DCN에서 embedding시킬 차원을 조정할 수 있습니다.\n",
      "  --DCN_MLP_DIMS DCN_MLP_DIMS\n",
      "                        DCN에서 MLP Network의 차원을 조정할 수 있습니다.\n",
      "  --DCN_DROPOUT DCN_DROPOUT\n",
      "                        DCN에서 Dropout rate를 조정할 수 있습니다.\n",
      "  --DCN_NUM_LAYERS DCN_NUM_LAYERS\n",
      "                        DCN에서 Cross Network의 레이어 수를 조정할 수 있습니다.\n",
      "  --CNN_FM_EMBED_DIM CNN_FM_EMBED_DIM\n",
      "                        CNN_FM에서 user와 item에 대한 embedding시킬 차원을 조정할 수 있습니다.\n",
      "  --CNN_FM_LATENT_DIM CNN_FM_LATENT_DIM\n",
      "                        CNN_FM에서 user/item/image에 대한 latent 차원을 조정할 수 있습니다.\n",
      "  --DEEPCONN_VECTOR_CREATE DEEPCONN_VECTOR_CREATE\n",
      "                        DEEP_CONN에서 text vector 생성 여부를 조정할 수 있으며 최초 학습에만 True로\n",
      "                        설정하여야합니다.\n",
      "  --DEEPCONN_EMBED_DIM DEEPCONN_EMBED_DIM\n",
      "                        DEEP_CONN에서 user와 item에 대한 embedding시킬 차원을 조정할 수 있습니다.\n",
      "  --DEEPCONN_LATENT_DIM DEEPCONN_LATENT_DIM\n",
      "                        DEEP_CONN에서 user/item/image에 대한 latent 차원을 조정할 수 있습니다.\n",
      "  --DEEPCONN_CONV_1D_OUT_DIM DEEPCONN_CONV_1D_OUT_DIM\n",
      "                        DEEP_CONN에서 1D conv의 출력 크기를 조정할 수 있습니다.\n",
      "  --DEEPCONN_KERNEL_SIZE DEEPCONN_KERNEL_SIZE\n",
      "                        DEEP_CONN에서 1D conv의 kernel 크기를 조정할 수 있습니다.\n",
      "  --DEEPCONN_WORD_DIM DEEPCONN_WORD_DIM\n",
      "                        DEEP_CONN에서 1D conv의 입력 크기를 조정할 수 있습니다.\n",
      "  --DEEPCONN_OUT_DIM DEEPCONN_OUT_DIM\n",
      "                        DEEP_CONN에서 1D conv의 출력 크기를 조정할 수 있습니다.\n"
     ]
    }
   ],
   "source": [
    "!python3 main.py -h"
   ]
  },
  {
   "cell_type": "code",
   "execution_count": null,
   "id": "0ebaaa22-393e-4bcf-8199-9277a0c9a979",
   "metadata": {},
   "outputs": [],
   "source": [
    "!python3 ensemble.py --ENSEMBLE_FILES 20221029_134942_FM,20221029_135408_FFM,20221029_143714_DeepCoNN --ENSEMBLE_STRATEGY WEIGHTED --ENSEMBLE_WEIGHT 0.2,0.3,0.5"
   ]
  },
  {
   "cell_type": "code",
   "execution_count": null,
   "id": "2ef92a1c-a951-4b8a-9eaf-d21f92e9d262",
   "metadata": {},
   "outputs": [],
   "source": []
  },
  {
   "cell_type": "code",
   "execution_count": 22,
   "id": "019b17d7-7cb6-4c23-93d9-d44812589b10",
   "metadata": {},
   "outputs": [
    {
     "ename": "SyntaxError",
     "evalue": "invalid syntax (1820996398.py, line 1)",
     "output_type": "error",
     "traceback": [
      "\u001b[0;36m  Cell \u001b[0;32mIn [22], line 1\u001b[0;36m\u001b[0m\n\u001b[0;31m    for i in $(lsof /dev/nvidia1 | grep python | awk '{print $2}' | sort -u); do kill -9 $i; done\u001b[0m\n\u001b[0m             ^\u001b[0m\n\u001b[0;31mSyntaxError\u001b[0m\u001b[0;31m:\u001b[0m invalid syntax\n"
     ]
    }
   ],
   "source": [
    "for i in $(lsof /dev/nvidia1 | grep python | awk '{print $2}' | sort -u); do kill -9 $i; done"
   ]
  },
  {
   "cell_type": "code",
   "execution_count": 19,
   "id": "b0197e86-3d0d-4b0c-806e-1c61a98a441e",
   "metadata": {},
   "outputs": [],
   "source": [
    "import torch\n",
    "torch.cuda.empty_cache()"
   ]
  },
  {
   "cell_type": "code",
   "execution_count": null,
   "id": "71238c6a-3202-4fca-9a94-8106335d2a64",
   "metadata": {},
   "outputs": [],
   "source": []
  },
  {
   "cell_type": "code",
   "execution_count": null,
   "id": "27ead08e-d263-459c-9ddc-9a032650098f",
   "metadata": {},
   "outputs": [],
   "source": []
  },
  {
   "cell_type": "code",
   "execution_count": null,
   "id": "95998aaf-1451-4f96-bf6f-dc16c2baaabe",
   "metadata": {},
   "outputs": [],
   "source": []
  }
 ],
 "metadata": {
  "kernelspec": {
   "display_name": "Python 3 (ipykernel)",
   "language": "python",
   "name": "python3"
  },
  "language_info": {
   "codemirror_mode": {
    "name": "ipython",
    "version": 3
   },
   "file_extension": ".py",
   "mimetype": "text/x-python",
   "name": "python",
   "nbconvert_exporter": "python",
   "pygments_lexer": "ipython3",
   "version": "3.8.5"
  }
 },
 "nbformat": 4,
 "nbformat_minor": 5
}
