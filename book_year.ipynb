{
 "cells": [
  {
   "cell_type": "code",
   "execution_count": 1,
   "metadata": {},
   "outputs": [],
   "source": [
    "import pandas as pd\n",
    "import numpy as np\n",
    "import matplotlib.pyplot as plt\n",
    "import missingno as msno\n",
    "import seaborn as sns"
   ]
  },
  {
   "cell_type": "code",
   "execution_count": 2,
   "metadata": {},
   "outputs": [],
   "source": [
    "path = \"./data/\"\n",
    "b= pd.read_csv(path + \"books_word2vec.csv\")\n",
    "books = pd.read_csv(path + \"books_by_author.csv\")\n",
    "users= pd.read_csv(path + \"users.csv\")\n",
    "rating = pd.read_csv(path + \"train_ratings.csv\")"
   ]
  },
  {
   "cell_type": "code",
   "execution_count": 3,
   "metadata": {},
   "outputs": [],
   "source": [
    "books_p = pd.read_csv(path + \"books_by_publisher.csv\")\n",
    "books_p = books.drop('Unnamed: 0', axis= 1)"
   ]
  },
  {
   "cell_type": "code",
   "execution_count": 4,
   "metadata": {},
   "outputs": [],
   "source": [
    "books_a = books.drop('Unnamed: 0', axis= 1)"
   ]
  },
  {
   "cell_type": "code",
   "execution_count": 6,
   "metadata": {},
   "outputs": [
    {
     "data": {
      "text/plain": [
       "count    149570.000000\n",
       "mean       1994.590606\n",
       "std           8.179733\n",
       "min        1376.000000\n",
       "25%        1991.000000\n",
       "50%        1996.000000\n",
       "75%        2000.000000\n",
       "max        2006.000000\n",
       "Name: year_of_publication, dtype: float64"
      ]
     },
     "execution_count": 6,
     "metadata": {},
     "output_type": "execute_result"
    }
   ],
   "source": [
    "books_a.year_of_publication.describe()"
   ]
  },
  {
   "cell_type": "code",
   "execution_count": 7,
   "metadata": {},
   "outputs": [],
   "source": [
    "def year_map(x: int) -> int:\n",
    "    x = int(x)\n",
    "    if x <= 1990:\n",
    "        return 1\n",
    "    elif x > 1990 and x <= 1995:\n",
    "        return 2\n",
    "    elif x > 1995 and x <= 2000:\n",
    "        return 3\n",
    "    else:\n",
    "        return 4"
   ]
  },
  {
   "cell_type": "code",
   "execution_count": 8,
   "metadata": {},
   "outputs": [],
   "source": [
    "books_a['year_of_publication'] = books_a['year_of_publication'].apply(year_map)\n"
   ]
  },
  {
   "cell_type": "code",
   "execution_count": 9,
   "metadata": {},
   "outputs": [],
   "source": [
    "books_p['year_of_publication'] = books_p['year_of_publication'].apply(year_map)"
   ]
  },
  {
   "cell_type": "code",
   "execution_count": 10,
   "metadata": {},
   "outputs": [
    {
     "data": {
      "text/html": [
       "<div>\n",
       "<style scoped>\n",
       "    .dataframe tbody tr th:only-of-type {\n",
       "        vertical-align: middle;\n",
       "    }\n",
       "\n",
       "    .dataframe tbody tr th {\n",
       "        vertical-align: top;\n",
       "    }\n",
       "\n",
       "    .dataframe thead th {\n",
       "        text-align: right;\n",
       "    }\n",
       "</style>\n",
       "<table border=\"1\" class=\"dataframe\">\n",
       "  <thead>\n",
       "    <tr style=\"text-align: right;\">\n",
       "      <th></th>\n",
       "      <th>isbn</th>\n",
       "      <th>book_author</th>\n",
       "      <th>year_of_publication</th>\n",
       "      <th>publisher</th>\n",
       "      <th>category</th>\n",
       "    </tr>\n",
       "  </thead>\n",
       "  <tbody>\n",
       "    <tr>\n",
       "      <th>0</th>\n",
       "      <td>0002005018</td>\n",
       "      <td>Richard Bruce Wright</td>\n",
       "      <td>4</td>\n",
       "      <td>HarperFlamingo Canada</td>\n",
       "      <td>['Juvenile Fiction']</td>\n",
       "    </tr>\n",
       "    <tr>\n",
       "      <th>1</th>\n",
       "      <td>0060973129</td>\n",
       "      <td>Carlo D'Este</td>\n",
       "      <td>2</td>\n",
       "      <td>HarperPerennial</td>\n",
       "      <td>['History']</td>\n",
       "    </tr>\n",
       "    <tr>\n",
       "      <th>2</th>\n",
       "      <td>0374157065</td>\n",
       "      <td>Gina Bari Kolata</td>\n",
       "      <td>3</td>\n",
       "      <td>Farrar Straus Giroux</td>\n",
       "      <td>['Medical']</td>\n",
       "    </tr>\n",
       "    <tr>\n",
       "      <th>3</th>\n",
       "      <td>0399135782</td>\n",
       "      <td>Amy Tan</td>\n",
       "      <td>2</td>\n",
       "      <td>Putnam Pub Group</td>\n",
       "      <td>['Social Science']</td>\n",
       "    </tr>\n",
       "    <tr>\n",
       "      <th>4</th>\n",
       "      <td>0425176428</td>\n",
       "      <td>Robert Cowley</td>\n",
       "      <td>3</td>\n",
       "      <td>Berkley Publishing Group</td>\n",
       "      <td>['History']</td>\n",
       "    </tr>\n",
       "    <tr>\n",
       "      <th>...</th>\n",
       "      <td>...</td>\n",
       "      <td>...</td>\n",
       "      <td>...</td>\n",
       "      <td>...</td>\n",
       "      <td>...</td>\n",
       "    </tr>\n",
       "    <tr>\n",
       "      <th>149565</th>\n",
       "      <td>067161746X</td>\n",
       "      <td>P.J. O'Rourke</td>\n",
       "      <td>1</td>\n",
       "      <td>Pocket Books</td>\n",
       "      <td>['House &amp; Home']</td>\n",
       "    </tr>\n",
       "    <tr>\n",
       "      <th>149566</th>\n",
       "      <td>0767907566</td>\n",
       "      <td>Sam Lightner</td>\n",
       "      <td>4</td>\n",
       "      <td>Broadway Books</td>\n",
       "      <td>['Juvenile Fiction']</td>\n",
       "    </tr>\n",
       "    <tr>\n",
       "      <th>149567</th>\n",
       "      <td>0884159221</td>\n",
       "      <td>Claude Dooley</td>\n",
       "      <td>1</td>\n",
       "      <td>Lone Star Books</td>\n",
       "      <td>NaN</td>\n",
       "    </tr>\n",
       "    <tr>\n",
       "      <th>149568</th>\n",
       "      <td>0912333022</td>\n",
       "      <td>Jeremy Lloyd</td>\n",
       "      <td>3</td>\n",
       "      <td>Kqed Books</td>\n",
       "      <td>['Performing Arts']</td>\n",
       "    </tr>\n",
       "    <tr>\n",
       "      <th>149569</th>\n",
       "      <td>1569661057</td>\n",
       "      <td>Mapsco</td>\n",
       "      <td>3</td>\n",
       "      <td>American Map Corporation</td>\n",
       "      <td>NaN</td>\n",
       "    </tr>\n",
       "  </tbody>\n",
       "</table>\n",
       "<p>149570 rows × 5 columns</p>\n",
       "</div>"
      ],
      "text/plain": [
       "              isbn           book_author  year_of_publication  \\\n",
       "0       0002005018  Richard Bruce Wright                    4   \n",
       "1       0060973129          Carlo D'Este                    2   \n",
       "2       0374157065      Gina Bari Kolata                    3   \n",
       "3       0399135782               Amy Tan                    2   \n",
       "4       0425176428         Robert Cowley                    3   \n",
       "...            ...                   ...                  ...   \n",
       "149565  067161746X         P.J. O'Rourke                    1   \n",
       "149566  0767907566          Sam Lightner                    4   \n",
       "149567  0884159221         Claude Dooley                    1   \n",
       "149568  0912333022          Jeremy Lloyd                    3   \n",
       "149569  1569661057                Mapsco                    3   \n",
       "\n",
       "                       publisher              category  \n",
       "0          HarperFlamingo Canada  ['Juvenile Fiction']  \n",
       "1                HarperPerennial           ['History']  \n",
       "2           Farrar Straus Giroux           ['Medical']  \n",
       "3               Putnam Pub Group    ['Social Science']  \n",
       "4       Berkley Publishing Group           ['History']  \n",
       "...                          ...                   ...  \n",
       "149565              Pocket Books      ['House & Home']  \n",
       "149566            Broadway Books  ['Juvenile Fiction']  \n",
       "149567           Lone Star Books                   NaN  \n",
       "149568                Kqed Books   ['Performing Arts']  \n",
       "149569  American Map Corporation                   NaN  \n",
       "\n",
       "[149570 rows x 5 columns]"
      ]
     },
     "execution_count": 10,
     "metadata": {},
     "output_type": "execute_result"
    }
   ],
   "source": [
    "books_a"
   ]
  },
  {
   "cell_type": "code",
   "execution_count": 11,
   "metadata": {},
   "outputs": [
    {
     "data": {
      "text/html": [
       "<div>\n",
       "<style scoped>\n",
       "    .dataframe tbody tr th:only-of-type {\n",
       "        vertical-align: middle;\n",
       "    }\n",
       "\n",
       "    .dataframe tbody tr th {\n",
       "        vertical-align: top;\n",
       "    }\n",
       "\n",
       "    .dataframe thead th {\n",
       "        text-align: right;\n",
       "    }\n",
       "</style>\n",
       "<table border=\"1\" class=\"dataframe\">\n",
       "  <thead>\n",
       "    <tr style=\"text-align: right;\">\n",
       "      <th></th>\n",
       "      <th>isbn</th>\n",
       "      <th>book_author</th>\n",
       "      <th>year_of_publication</th>\n",
       "      <th>publisher</th>\n",
       "      <th>category</th>\n",
       "    </tr>\n",
       "  </thead>\n",
       "  <tbody>\n",
       "    <tr>\n",
       "      <th>0</th>\n",
       "      <td>0002005018</td>\n",
       "      <td>Richard Bruce Wright</td>\n",
       "      <td>4</td>\n",
       "      <td>HarperFlamingo Canada</td>\n",
       "      <td>['Juvenile Fiction']</td>\n",
       "    </tr>\n",
       "    <tr>\n",
       "      <th>1</th>\n",
       "      <td>0060973129</td>\n",
       "      <td>Carlo D'Este</td>\n",
       "      <td>2</td>\n",
       "      <td>HarperPerennial</td>\n",
       "      <td>['History']</td>\n",
       "    </tr>\n",
       "    <tr>\n",
       "      <th>2</th>\n",
       "      <td>0374157065</td>\n",
       "      <td>Gina Bari Kolata</td>\n",
       "      <td>3</td>\n",
       "      <td>Farrar Straus Giroux</td>\n",
       "      <td>['Medical']</td>\n",
       "    </tr>\n",
       "    <tr>\n",
       "      <th>3</th>\n",
       "      <td>0399135782</td>\n",
       "      <td>Amy Tan</td>\n",
       "      <td>2</td>\n",
       "      <td>Putnam Pub Group</td>\n",
       "      <td>['Social Science']</td>\n",
       "    </tr>\n",
       "    <tr>\n",
       "      <th>4</th>\n",
       "      <td>0425176428</td>\n",
       "      <td>Robert Cowley</td>\n",
       "      <td>3</td>\n",
       "      <td>Berkley Publishing Group</td>\n",
       "      <td>['History']</td>\n",
       "    </tr>\n",
       "    <tr>\n",
       "      <th>...</th>\n",
       "      <td>...</td>\n",
       "      <td>...</td>\n",
       "      <td>...</td>\n",
       "      <td>...</td>\n",
       "      <td>...</td>\n",
       "    </tr>\n",
       "    <tr>\n",
       "      <th>149565</th>\n",
       "      <td>067161746X</td>\n",
       "      <td>P.J. O'Rourke</td>\n",
       "      <td>1</td>\n",
       "      <td>Pocket Books</td>\n",
       "      <td>['House &amp; Home']</td>\n",
       "    </tr>\n",
       "    <tr>\n",
       "      <th>149566</th>\n",
       "      <td>0767907566</td>\n",
       "      <td>Sam Lightner</td>\n",
       "      <td>4</td>\n",
       "      <td>Broadway Books</td>\n",
       "      <td>['Juvenile Fiction']</td>\n",
       "    </tr>\n",
       "    <tr>\n",
       "      <th>149567</th>\n",
       "      <td>0884159221</td>\n",
       "      <td>Claude Dooley</td>\n",
       "      <td>1</td>\n",
       "      <td>Lone Star Books</td>\n",
       "      <td>NaN</td>\n",
       "    </tr>\n",
       "    <tr>\n",
       "      <th>149568</th>\n",
       "      <td>0912333022</td>\n",
       "      <td>Jeremy Lloyd</td>\n",
       "      <td>3</td>\n",
       "      <td>Kqed Books</td>\n",
       "      <td>['Performing Arts']</td>\n",
       "    </tr>\n",
       "    <tr>\n",
       "      <th>149569</th>\n",
       "      <td>1569661057</td>\n",
       "      <td>Mapsco</td>\n",
       "      <td>3</td>\n",
       "      <td>American Map Corporation</td>\n",
       "      <td>NaN</td>\n",
       "    </tr>\n",
       "  </tbody>\n",
       "</table>\n",
       "<p>149570 rows × 5 columns</p>\n",
       "</div>"
      ],
      "text/plain": [
       "              isbn           book_author  year_of_publication  \\\n",
       "0       0002005018  Richard Bruce Wright                    4   \n",
       "1       0060973129          Carlo D'Este                    2   \n",
       "2       0374157065      Gina Bari Kolata                    3   \n",
       "3       0399135782               Amy Tan                    2   \n",
       "4       0425176428         Robert Cowley                    3   \n",
       "...            ...                   ...                  ...   \n",
       "149565  067161746X         P.J. O'Rourke                    1   \n",
       "149566  0767907566          Sam Lightner                    4   \n",
       "149567  0884159221         Claude Dooley                    1   \n",
       "149568  0912333022          Jeremy Lloyd                    3   \n",
       "149569  1569661057                Mapsco                    3   \n",
       "\n",
       "                       publisher              category  \n",
       "0          HarperFlamingo Canada  ['Juvenile Fiction']  \n",
       "1                HarperPerennial           ['History']  \n",
       "2           Farrar Straus Giroux           ['Medical']  \n",
       "3               Putnam Pub Group    ['Social Science']  \n",
       "4       Berkley Publishing Group           ['History']  \n",
       "...                          ...                   ...  \n",
       "149565              Pocket Books      ['House & Home']  \n",
       "149566            Broadway Books  ['Juvenile Fiction']  \n",
       "149567           Lone Star Books                   NaN  \n",
       "149568                Kqed Books   ['Performing Arts']  \n",
       "149569  American Map Corporation                   NaN  \n",
       "\n",
       "[149570 rows x 5 columns]"
      ]
     },
     "execution_count": 11,
     "metadata": {},
     "output_type": "execute_result"
    }
   ],
   "source": [
    "books_p"
   ]
  },
  {
   "cell_type": "code",
   "execution_count": 13,
   "metadata": {},
   "outputs": [
    {
     "data": {
      "text/plain": [
       "3    46463\n",
       "4    35910\n",
       "1    35190\n",
       "2    32007\n",
       "Name: year_of_publication, dtype: int64"
      ]
     },
     "execution_count": 13,
     "metadata": {},
     "output_type": "execute_result"
    }
   ],
   "source": [
    "books_p.year_of_publication\t.value_counts()"
   ]
  },
  {
   "cell_type": "code",
   "execution_count": 14,
   "metadata": {},
   "outputs": [],
   "source": [
    "books_p.to_csv(\"books_publisher_year.csv\", index=False)\n",
    "books_a.to_csv(\"books_author_year.csv\", index=False)"
   ]
  }
 ],
 "metadata": {
  "kernelspec": {
   "display_name": "Python 3.10.8 64-bit (microsoft store)",
   "language": "python",
   "name": "python3"
  },
  "language_info": {
   "codemirror_mode": {
    "name": "ipython",
    "version": 3
   },
   "file_extension": ".py",
   "mimetype": "text/x-python",
   "name": "python",
   "nbconvert_exporter": "python",
   "pygments_lexer": "ipython3",
   "version": "3.10.8"
  },
  "orig_nbformat": 4,
  "vscode": {
   "interpreter": {
    "hash": "25ff2d738d3957064ea91cd0e6c93db6032917ef47308ad7e0350e1d8f9ec926"
   }
  }
 },
 "nbformat": 4,
 "nbformat_minor": 2
}
